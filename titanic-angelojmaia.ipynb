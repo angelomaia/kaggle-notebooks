{
 "cells": [
  {
   "cell_type": "code",
   "execution_count": 1,
   "id": "4dcd329e",
   "metadata": {
    "_cell_guid": "b1076dfc-b9ad-4769-8c92-a6c4dae69d19",
    "_uuid": "8f2839f25d086af736a60e9eeb907d3b93b6e0e5",
    "execution": {
     "iopub.execute_input": "2023-03-24T00:23:48.735635Z",
     "iopub.status.busy": "2023-03-24T00:23:48.735183Z",
     "iopub.status.idle": "2023-03-24T00:23:48.752621Z",
     "shell.execute_reply": "2023-03-24T00:23:48.751233Z"
    },
    "papermill": {
     "duration": 0.032468,
     "end_time": "2023-03-24T00:23:48.755736",
     "exception": false,
     "start_time": "2023-03-24T00:23:48.723268",
     "status": "completed"
    },
    "tags": []
   },
   "outputs": [
    {
     "name": "stdout",
     "output_type": "stream",
     "text": [
      "/kaggle/input/titanic/train.csv\n",
      "/kaggle/input/titanic/test.csv\n",
      "/kaggle/input/titanic/gender_submission.csv\n"
     ]
    }
   ],
   "source": [
    "# This Python 3 environment comes with many helpful analytics libraries installed\n",
    "# It is defined by the kaggle/python Docker image: https://github.com/kaggle/docker-python\n",
    "# For example, here's several helpful packages to load\n",
    "\n",
    "import numpy as np # linear algebra\n",
    "import pandas as pd # data processing, CSV file I/O (e.g. pd.read_csv)\n",
    "\n",
    "# Input data files are available in the read-only \"../input/\" directory\n",
    "# For example, running this (by clicking run or pressing Shift+Enter) will list all files under the input directory\n",
    "\n",
    "import os\n",
    "for dirname, _, filenames in os.walk('/kaggle/input'):\n",
    "    for filename in filenames:\n",
    "        print(os.path.join(dirname, filename))\n",
    "\n",
    "# You can write up to 20GB to the current directory (/kaggle/working/) that gets preserved as output when you create a version using \"Save & Run All\" \n",
    "# You can also write temporary files to /kaggle/temp/, but they won't be saved outside of the current session"
   ]
  },
  {
   "cell_type": "code",
   "execution_count": 2,
   "id": "71468823",
   "metadata": {
    "execution": {
     "iopub.execute_input": "2023-03-24T00:23:48.770261Z",
     "iopub.status.busy": "2023-03-24T00:23:48.769784Z",
     "iopub.status.idle": "2023-03-24T00:23:48.836576Z",
     "shell.execute_reply": "2023-03-24T00:23:48.834986Z"
    },
    "papermill": {
     "duration": 0.07808,
     "end_time": "2023-03-24T00:23:48.839950",
     "exception": false,
     "start_time": "2023-03-24T00:23:48.761870",
     "status": "completed"
    },
    "tags": []
   },
   "outputs": [
    {
     "data": {
      "text/html": [
       "<div>\n",
       "<style scoped>\n",
       "    .dataframe tbody tr th:only-of-type {\n",
       "        vertical-align: middle;\n",
       "    }\n",
       "\n",
       "    .dataframe tbody tr th {\n",
       "        vertical-align: top;\n",
       "    }\n",
       "\n",
       "    .dataframe thead th {\n",
       "        text-align: right;\n",
       "    }\n",
       "</style>\n",
       "<table border=\"1\" class=\"dataframe\">\n",
       "  <thead>\n",
       "    <tr style=\"text-align: right;\">\n",
       "      <th></th>\n",
       "      <th>PassengerId</th>\n",
       "      <th>Survived</th>\n",
       "      <th>Pclass</th>\n",
       "      <th>Name</th>\n",
       "      <th>Sex</th>\n",
       "      <th>Age</th>\n",
       "      <th>SibSp</th>\n",
       "      <th>Parch</th>\n",
       "      <th>Ticket</th>\n",
       "      <th>Fare</th>\n",
       "      <th>Cabin</th>\n",
       "      <th>Embarked</th>\n",
       "    </tr>\n",
       "  </thead>\n",
       "  <tbody>\n",
       "    <tr>\n",
       "      <th>0</th>\n",
       "      <td>1</td>\n",
       "      <td>0</td>\n",
       "      <td>3</td>\n",
       "      <td>Braund, Mr. Owen Harris</td>\n",
       "      <td>male</td>\n",
       "      <td>22.0</td>\n",
       "      <td>1</td>\n",
       "      <td>0</td>\n",
       "      <td>A/5 21171</td>\n",
       "      <td>7.2500</td>\n",
       "      <td>NaN</td>\n",
       "      <td>S</td>\n",
       "    </tr>\n",
       "    <tr>\n",
       "      <th>1</th>\n",
       "      <td>2</td>\n",
       "      <td>1</td>\n",
       "      <td>1</td>\n",
       "      <td>Cumings, Mrs. John Bradley (Florence Briggs Th...</td>\n",
       "      <td>female</td>\n",
       "      <td>38.0</td>\n",
       "      <td>1</td>\n",
       "      <td>0</td>\n",
       "      <td>PC 17599</td>\n",
       "      <td>71.2833</td>\n",
       "      <td>C85</td>\n",
       "      <td>C</td>\n",
       "    </tr>\n",
       "    <tr>\n",
       "      <th>2</th>\n",
       "      <td>3</td>\n",
       "      <td>1</td>\n",
       "      <td>3</td>\n",
       "      <td>Heikkinen, Miss. Laina</td>\n",
       "      <td>female</td>\n",
       "      <td>26.0</td>\n",
       "      <td>0</td>\n",
       "      <td>0</td>\n",
       "      <td>STON/O2. 3101282</td>\n",
       "      <td>7.9250</td>\n",
       "      <td>NaN</td>\n",
       "      <td>S</td>\n",
       "    </tr>\n",
       "    <tr>\n",
       "      <th>3</th>\n",
       "      <td>4</td>\n",
       "      <td>1</td>\n",
       "      <td>1</td>\n",
       "      <td>Futrelle, Mrs. Jacques Heath (Lily May Peel)</td>\n",
       "      <td>female</td>\n",
       "      <td>35.0</td>\n",
       "      <td>1</td>\n",
       "      <td>0</td>\n",
       "      <td>113803</td>\n",
       "      <td>53.1000</td>\n",
       "      <td>C123</td>\n",
       "      <td>S</td>\n",
       "    </tr>\n",
       "    <tr>\n",
       "      <th>4</th>\n",
       "      <td>5</td>\n",
       "      <td>0</td>\n",
       "      <td>3</td>\n",
       "      <td>Allen, Mr. William Henry</td>\n",
       "      <td>male</td>\n",
       "      <td>35.0</td>\n",
       "      <td>0</td>\n",
       "      <td>0</td>\n",
       "      <td>373450</td>\n",
       "      <td>8.0500</td>\n",
       "      <td>NaN</td>\n",
       "      <td>S</td>\n",
       "    </tr>\n",
       "  </tbody>\n",
       "</table>\n",
       "</div>"
      ],
      "text/plain": [
       "   PassengerId  Survived  Pclass  \\\n",
       "0            1         0       3   \n",
       "1            2         1       1   \n",
       "2            3         1       3   \n",
       "3            4         1       1   \n",
       "4            5         0       3   \n",
       "\n",
       "                                                Name     Sex   Age  SibSp  \\\n",
       "0                            Braund, Mr. Owen Harris    male  22.0      1   \n",
       "1  Cumings, Mrs. John Bradley (Florence Briggs Th...  female  38.0      1   \n",
       "2                             Heikkinen, Miss. Laina  female  26.0      0   \n",
       "3       Futrelle, Mrs. Jacques Heath (Lily May Peel)  female  35.0      1   \n",
       "4                           Allen, Mr. William Henry    male  35.0      0   \n",
       "\n",
       "   Parch            Ticket     Fare Cabin Embarked  \n",
       "0      0         A/5 21171   7.2500   NaN        S  \n",
       "1      0          PC 17599  71.2833   C85        C  \n",
       "2      0  STON/O2. 3101282   7.9250   NaN        S  \n",
       "3      0            113803  53.1000  C123        S  \n",
       "4      0            373450   8.0500   NaN        S  "
      ]
     },
     "execution_count": 2,
     "metadata": {},
     "output_type": "execute_result"
    }
   ],
   "source": [
    "train = pd.read_csv(\"/kaggle/input/titanic/train.csv\")\n",
    "test = pd.read_csv(\"/kaggle/input/titanic/test.csv\")\n",
    "example = pd.read_csv(\"/kaggle/input/titanic/gender_submission.csv\")\n",
    "\n",
    "train.head()"
   ]
  },
  {
   "cell_type": "code",
   "execution_count": 3,
   "id": "c0ae1ec6",
   "metadata": {
    "execution": {
     "iopub.execute_input": "2023-03-24T00:23:48.855650Z",
     "iopub.status.busy": "2023-03-24T00:23:48.855135Z",
     "iopub.status.idle": "2023-03-24T00:23:48.875598Z",
     "shell.execute_reply": "2023-03-24T00:23:48.874058Z"
    },
    "papermill": {
     "duration": 0.03223,
     "end_time": "2023-03-24T00:23:48.878445",
     "exception": false,
     "start_time": "2023-03-24T00:23:48.846215",
     "status": "completed"
    },
    "tags": []
   },
   "outputs": [
    {
     "data": {
      "text/html": [
       "<div>\n",
       "<style scoped>\n",
       "    .dataframe tbody tr th:only-of-type {\n",
       "        vertical-align: middle;\n",
       "    }\n",
       "\n",
       "    .dataframe tbody tr th {\n",
       "        vertical-align: top;\n",
       "    }\n",
       "\n",
       "    .dataframe thead th {\n",
       "        text-align: right;\n",
       "    }\n",
       "</style>\n",
       "<table border=\"1\" class=\"dataframe\">\n",
       "  <thead>\n",
       "    <tr style=\"text-align: right;\">\n",
       "      <th></th>\n",
       "      <th>PassengerId</th>\n",
       "      <th>Survived</th>\n",
       "      <th>Pclass</th>\n",
       "      <th>Name</th>\n",
       "      <th>Sex</th>\n",
       "      <th>Age</th>\n",
       "      <th>SibSp</th>\n",
       "      <th>Parch</th>\n",
       "      <th>Ticket</th>\n",
       "      <th>Fare</th>\n",
       "      <th>Cabin</th>\n",
       "      <th>Embarked</th>\n",
       "    </tr>\n",
       "  </thead>\n",
       "  <tbody>\n",
       "    <tr>\n",
       "      <th>886</th>\n",
       "      <td>887</td>\n",
       "      <td>0</td>\n",
       "      <td>2</td>\n",
       "      <td>Montvila, Rev. Juozas</td>\n",
       "      <td>male</td>\n",
       "      <td>27.0</td>\n",
       "      <td>0</td>\n",
       "      <td>0</td>\n",
       "      <td>211536</td>\n",
       "      <td>13.00</td>\n",
       "      <td>NaN</td>\n",
       "      <td>S</td>\n",
       "    </tr>\n",
       "    <tr>\n",
       "      <th>887</th>\n",
       "      <td>888</td>\n",
       "      <td>1</td>\n",
       "      <td>1</td>\n",
       "      <td>Graham, Miss. Margaret Edith</td>\n",
       "      <td>female</td>\n",
       "      <td>19.0</td>\n",
       "      <td>0</td>\n",
       "      <td>0</td>\n",
       "      <td>112053</td>\n",
       "      <td>30.00</td>\n",
       "      <td>B42</td>\n",
       "      <td>S</td>\n",
       "    </tr>\n",
       "    <tr>\n",
       "      <th>888</th>\n",
       "      <td>889</td>\n",
       "      <td>0</td>\n",
       "      <td>3</td>\n",
       "      <td>Johnston, Miss. Catherine Helen \"Carrie\"</td>\n",
       "      <td>female</td>\n",
       "      <td>NaN</td>\n",
       "      <td>1</td>\n",
       "      <td>2</td>\n",
       "      <td>W./C. 6607</td>\n",
       "      <td>23.45</td>\n",
       "      <td>NaN</td>\n",
       "      <td>S</td>\n",
       "    </tr>\n",
       "    <tr>\n",
       "      <th>889</th>\n",
       "      <td>890</td>\n",
       "      <td>1</td>\n",
       "      <td>1</td>\n",
       "      <td>Behr, Mr. Karl Howell</td>\n",
       "      <td>male</td>\n",
       "      <td>26.0</td>\n",
       "      <td>0</td>\n",
       "      <td>0</td>\n",
       "      <td>111369</td>\n",
       "      <td>30.00</td>\n",
       "      <td>C148</td>\n",
       "      <td>C</td>\n",
       "    </tr>\n",
       "    <tr>\n",
       "      <th>890</th>\n",
       "      <td>891</td>\n",
       "      <td>0</td>\n",
       "      <td>3</td>\n",
       "      <td>Dooley, Mr. Patrick</td>\n",
       "      <td>male</td>\n",
       "      <td>32.0</td>\n",
       "      <td>0</td>\n",
       "      <td>0</td>\n",
       "      <td>370376</td>\n",
       "      <td>7.75</td>\n",
       "      <td>NaN</td>\n",
       "      <td>Q</td>\n",
       "    </tr>\n",
       "  </tbody>\n",
       "</table>\n",
       "</div>"
      ],
      "text/plain": [
       "     PassengerId  Survived  Pclass                                      Name  \\\n",
       "886          887         0       2                     Montvila, Rev. Juozas   \n",
       "887          888         1       1              Graham, Miss. Margaret Edith   \n",
       "888          889         0       3  Johnston, Miss. Catherine Helen \"Carrie\"   \n",
       "889          890         1       1                     Behr, Mr. Karl Howell   \n",
       "890          891         0       3                       Dooley, Mr. Patrick   \n",
       "\n",
       "        Sex   Age  SibSp  Parch      Ticket   Fare Cabin Embarked  \n",
       "886    male  27.0      0      0      211536  13.00   NaN        S  \n",
       "887  female  19.0      0      0      112053  30.00   B42        S  \n",
       "888  female   NaN      1      2  W./C. 6607  23.45   NaN        S  \n",
       "889    male  26.0      0      0      111369  30.00  C148        C  \n",
       "890    male  32.0      0      0      370376   7.75   NaN        Q  "
      ]
     },
     "execution_count": 3,
     "metadata": {},
     "output_type": "execute_result"
    }
   ],
   "source": [
    "train.tail()"
   ]
  },
  {
   "cell_type": "code",
   "execution_count": 4,
   "id": "37f42355",
   "metadata": {
    "execution": {
     "iopub.execute_input": "2023-03-24T00:23:48.893514Z",
     "iopub.status.busy": "2023-03-24T00:23:48.893012Z",
     "iopub.status.idle": "2023-03-24T00:23:48.905052Z",
     "shell.execute_reply": "2023-03-24T00:23:48.903512Z"
    },
    "papermill": {
     "duration": 0.022948,
     "end_time": "2023-03-24T00:23:48.907936",
     "exception": false,
     "start_time": "2023-03-24T00:23:48.884988",
     "status": "completed"
    },
    "tags": []
   },
   "outputs": [
    {
     "data": {
      "text/plain": [
       "PassengerId      0\n",
       "Survived         0\n",
       "Pclass           0\n",
       "Name             0\n",
       "Sex              0\n",
       "Age            177\n",
       "SibSp            0\n",
       "Parch            0\n",
       "Ticket           0\n",
       "Fare             0\n",
       "Cabin          687\n",
       "Embarked         2\n",
       "dtype: int64"
      ]
     },
     "execution_count": 4,
     "metadata": {},
     "output_type": "execute_result"
    }
   ],
   "source": [
    "train.isnull().sum()"
   ]
  },
  {
   "cell_type": "markdown",
   "id": "94415ad2",
   "metadata": {
    "papermill": {
     "duration": 0.006007,
     "end_time": "2023-03-24T00:23:48.920427",
     "exception": false,
     "start_time": "2023-03-24T00:23:48.914420",
     "status": "completed"
    },
    "tags": []
   },
   "source": [
    "### Removing irrelevant columns"
   ]
  },
  {
   "cell_type": "code",
   "execution_count": 5,
   "id": "26103ae6",
   "metadata": {
    "execution": {
     "iopub.execute_input": "2023-03-24T00:23:48.936950Z",
     "iopub.status.busy": "2023-03-24T00:23:48.935142Z",
     "iopub.status.idle": "2023-03-24T00:23:48.958751Z",
     "shell.execute_reply": "2023-03-24T00:23:48.957161Z"
    },
    "papermill": {
     "duration": 0.034528,
     "end_time": "2023-03-24T00:23:48.961361",
     "exception": false,
     "start_time": "2023-03-24T00:23:48.926833",
     "status": "completed"
    },
    "tags": []
   },
   "outputs": [
    {
     "data": {
      "text/html": [
       "<div>\n",
       "<style scoped>\n",
       "    .dataframe tbody tr th:only-of-type {\n",
       "        vertical-align: middle;\n",
       "    }\n",
       "\n",
       "    .dataframe tbody tr th {\n",
       "        vertical-align: top;\n",
       "    }\n",
       "\n",
       "    .dataframe thead th {\n",
       "        text-align: right;\n",
       "    }\n",
       "</style>\n",
       "<table border=\"1\" class=\"dataframe\">\n",
       "  <thead>\n",
       "    <tr style=\"text-align: right;\">\n",
       "      <th></th>\n",
       "      <th>PassengerId</th>\n",
       "      <th>Survived</th>\n",
       "      <th>Pclass</th>\n",
       "      <th>Sex</th>\n",
       "      <th>Age</th>\n",
       "      <th>SibSp</th>\n",
       "      <th>Parch</th>\n",
       "      <th>Fare</th>\n",
       "      <th>Embarked</th>\n",
       "    </tr>\n",
       "  </thead>\n",
       "  <tbody>\n",
       "    <tr>\n",
       "      <th>0</th>\n",
       "      <td>1</td>\n",
       "      <td>0</td>\n",
       "      <td>3</td>\n",
       "      <td>male</td>\n",
       "      <td>22.0</td>\n",
       "      <td>1</td>\n",
       "      <td>0</td>\n",
       "      <td>7.2500</td>\n",
       "      <td>S</td>\n",
       "    </tr>\n",
       "    <tr>\n",
       "      <th>1</th>\n",
       "      <td>2</td>\n",
       "      <td>1</td>\n",
       "      <td>1</td>\n",
       "      <td>female</td>\n",
       "      <td>38.0</td>\n",
       "      <td>1</td>\n",
       "      <td>0</td>\n",
       "      <td>71.2833</td>\n",
       "      <td>C</td>\n",
       "    </tr>\n",
       "    <tr>\n",
       "      <th>2</th>\n",
       "      <td>3</td>\n",
       "      <td>1</td>\n",
       "      <td>3</td>\n",
       "      <td>female</td>\n",
       "      <td>26.0</td>\n",
       "      <td>0</td>\n",
       "      <td>0</td>\n",
       "      <td>7.9250</td>\n",
       "      <td>S</td>\n",
       "    </tr>\n",
       "    <tr>\n",
       "      <th>3</th>\n",
       "      <td>4</td>\n",
       "      <td>1</td>\n",
       "      <td>1</td>\n",
       "      <td>female</td>\n",
       "      <td>35.0</td>\n",
       "      <td>1</td>\n",
       "      <td>0</td>\n",
       "      <td>53.1000</td>\n",
       "      <td>S</td>\n",
       "    </tr>\n",
       "    <tr>\n",
       "      <th>4</th>\n",
       "      <td>5</td>\n",
       "      <td>0</td>\n",
       "      <td>3</td>\n",
       "      <td>male</td>\n",
       "      <td>35.0</td>\n",
       "      <td>0</td>\n",
       "      <td>0</td>\n",
       "      <td>8.0500</td>\n",
       "      <td>S</td>\n",
       "    </tr>\n",
       "  </tbody>\n",
       "</table>\n",
       "</div>"
      ],
      "text/plain": [
       "   PassengerId  Survived  Pclass     Sex   Age  SibSp  Parch     Fare Embarked\n",
       "0            1         0       3    male  22.0      1      0   7.2500        S\n",
       "1            2         1       1  female  38.0      1      0  71.2833        C\n",
       "2            3         1       3  female  26.0      0      0   7.9250        S\n",
       "3            4         1       1  female  35.0      1      0  53.1000        S\n",
       "4            5         0       3    male  35.0      0      0   8.0500        S"
      ]
     },
     "execution_count": 5,
     "metadata": {},
     "output_type": "execute_result"
    }
   ],
   "source": [
    "train_v1 = train.drop(columns = ['Name', 'Ticket', 'Cabin'])\n",
    "\n",
    "train_v1.head()"
   ]
  },
  {
   "cell_type": "code",
   "execution_count": 6,
   "id": "e4e0fe48",
   "metadata": {
    "execution": {
     "iopub.execute_input": "2023-03-24T00:23:48.979096Z",
     "iopub.status.busy": "2023-03-24T00:23:48.977513Z",
     "iopub.status.idle": "2023-03-24T00:23:48.994585Z",
     "shell.execute_reply": "2023-03-24T00:23:48.993198Z"
    },
    "papermill": {
     "duration": 0.0287,
     "end_time": "2023-03-24T00:23:48.997622",
     "exception": false,
     "start_time": "2023-03-24T00:23:48.968922",
     "status": "completed"
    },
    "tags": []
   },
   "outputs": [
    {
     "data": {
      "text/plain": [
       "array(['S', 'C', 'Q', nan], dtype=object)"
      ]
     },
     "execution_count": 6,
     "metadata": {},
     "output_type": "execute_result"
    }
   ],
   "source": [
    "train_v1['Embarked'].unique()"
   ]
  },
  {
   "cell_type": "markdown",
   "id": "1bb13aef",
   "metadata": {
    "papermill": {
     "duration": 0.00691,
     "end_time": "2023-03-24T00:23:49.011503",
     "exception": false,
     "start_time": "2023-03-24T00:23:49.004593",
     "status": "completed"
    },
    "tags": []
   },
   "source": [
    "### Changing categoric to numeric"
   ]
  },
  {
   "cell_type": "code",
   "execution_count": 7,
   "id": "895a8b3b",
   "metadata": {
    "execution": {
     "iopub.execute_input": "2023-03-24T00:23:49.029370Z",
     "iopub.status.busy": "2023-03-24T00:23:49.027837Z",
     "iopub.status.idle": "2023-03-24T00:23:49.050533Z",
     "shell.execute_reply": "2023-03-24T00:23:49.049130Z"
    },
    "papermill": {
     "duration": 0.034554,
     "end_time": "2023-03-24T00:23:49.053599",
     "exception": false,
     "start_time": "2023-03-24T00:23:49.019045",
     "status": "completed"
    },
    "tags": []
   },
   "outputs": [
    {
     "data": {
      "text/html": [
       "<div>\n",
       "<style scoped>\n",
       "    .dataframe tbody tr th:only-of-type {\n",
       "        vertical-align: middle;\n",
       "    }\n",
       "\n",
       "    .dataframe tbody tr th {\n",
       "        vertical-align: top;\n",
       "    }\n",
       "\n",
       "    .dataframe thead th {\n",
       "        text-align: right;\n",
       "    }\n",
       "</style>\n",
       "<table border=\"1\" class=\"dataframe\">\n",
       "  <thead>\n",
       "    <tr style=\"text-align: right;\">\n",
       "      <th></th>\n",
       "      <th>PassengerId</th>\n",
       "      <th>Survived</th>\n",
       "      <th>Pclass</th>\n",
       "      <th>Sex</th>\n",
       "      <th>Age</th>\n",
       "      <th>SibSp</th>\n",
       "      <th>Parch</th>\n",
       "      <th>Fare</th>\n",
       "      <th>Embarked</th>\n",
       "    </tr>\n",
       "  </thead>\n",
       "  <tbody>\n",
       "    <tr>\n",
       "      <th>0</th>\n",
       "      <td>1</td>\n",
       "      <td>0</td>\n",
       "      <td>3</td>\n",
       "      <td>1</td>\n",
       "      <td>22.0</td>\n",
       "      <td>1</td>\n",
       "      <td>0</td>\n",
       "      <td>7.2500</td>\n",
       "      <td>1.0</td>\n",
       "    </tr>\n",
       "    <tr>\n",
       "      <th>1</th>\n",
       "      <td>2</td>\n",
       "      <td>1</td>\n",
       "      <td>1</td>\n",
       "      <td>0</td>\n",
       "      <td>38.0</td>\n",
       "      <td>1</td>\n",
       "      <td>0</td>\n",
       "      <td>71.2833</td>\n",
       "      <td>2.0</td>\n",
       "    </tr>\n",
       "    <tr>\n",
       "      <th>2</th>\n",
       "      <td>3</td>\n",
       "      <td>1</td>\n",
       "      <td>3</td>\n",
       "      <td>0</td>\n",
       "      <td>26.0</td>\n",
       "      <td>0</td>\n",
       "      <td>0</td>\n",
       "      <td>7.9250</td>\n",
       "      <td>1.0</td>\n",
       "    </tr>\n",
       "    <tr>\n",
       "      <th>3</th>\n",
       "      <td>4</td>\n",
       "      <td>1</td>\n",
       "      <td>1</td>\n",
       "      <td>0</td>\n",
       "      <td>35.0</td>\n",
       "      <td>1</td>\n",
       "      <td>0</td>\n",
       "      <td>53.1000</td>\n",
       "      <td>1.0</td>\n",
       "    </tr>\n",
       "    <tr>\n",
       "      <th>4</th>\n",
       "      <td>5</td>\n",
       "      <td>0</td>\n",
       "      <td>3</td>\n",
       "      <td>1</td>\n",
       "      <td>35.0</td>\n",
       "      <td>0</td>\n",
       "      <td>0</td>\n",
       "      <td>8.0500</td>\n",
       "      <td>1.0</td>\n",
       "    </tr>\n",
       "  </tbody>\n",
       "</table>\n",
       "</div>"
      ],
      "text/plain": [
       "   PassengerId  Survived  Pclass  Sex   Age  SibSp  Parch     Fare  Embarked\n",
       "0            1         0       3    1  22.0      1      0   7.2500       1.0\n",
       "1            2         1       1    0  38.0      1      0  71.2833       2.0\n",
       "2            3         1       3    0  26.0      0      0   7.9250       1.0\n",
       "3            4         1       1    0  35.0      1      0  53.1000       1.0\n",
       "4            5         0       3    1  35.0      0      0   8.0500       1.0"
      ]
     },
     "execution_count": 7,
     "metadata": {},
     "output_type": "execute_result"
    }
   ],
   "source": [
    "sex_change = {'male': 1, 'female': 0}\n",
    "\n",
    "train_v1['Sex'] = train.Sex.map(sex_change)\n",
    "\n",
    "embark_change = {'S': 1, 'C': 2, 'Q': 3}\n",
    "\n",
    "train_v1['Embarked'] = train.Embarked.map(embark_change)\n",
    "\n",
    "train_v1.head()"
   ]
  },
  {
   "cell_type": "code",
   "execution_count": 8,
   "id": "a41b9b8c",
   "metadata": {
    "execution": {
     "iopub.execute_input": "2023-03-24T00:23:49.070117Z",
     "iopub.status.busy": "2023-03-24T00:23:49.069565Z",
     "iopub.status.idle": "2023-03-24T00:23:49.081866Z",
     "shell.execute_reply": "2023-03-24T00:23:49.080552Z"
    },
    "papermill": {
     "duration": 0.023635,
     "end_time": "2023-03-24T00:23:49.084524",
     "exception": false,
     "start_time": "2023-03-24T00:23:49.060889",
     "status": "completed"
    },
    "tags": []
   },
   "outputs": [
    {
     "data": {
      "text/plain": [
       "PassengerId      0\n",
       "Survived         0\n",
       "Pclass           0\n",
       "Sex              0\n",
       "Age            177\n",
       "SibSp            0\n",
       "Parch            0\n",
       "Fare             0\n",
       "Embarked         2\n",
       "dtype: int64"
      ]
     },
     "execution_count": 8,
     "metadata": {},
     "output_type": "execute_result"
    }
   ],
   "source": [
    "train_v1.isnull().sum()"
   ]
  },
  {
   "cell_type": "code",
   "execution_count": 9,
   "id": "ae93131d",
   "metadata": {
    "execution": {
     "iopub.execute_input": "2023-03-24T00:23:49.102790Z",
     "iopub.status.busy": "2023-03-24T00:23:49.102186Z",
     "iopub.status.idle": "2023-03-24T00:23:49.115304Z",
     "shell.execute_reply": "2023-03-24T00:23:49.113602Z"
    },
    "papermill": {
     "duration": 0.026892,
     "end_time": "2023-03-24T00:23:49.118761",
     "exception": false,
     "start_time": "2023-03-24T00:23:49.091869",
     "status": "completed"
    },
    "tags": []
   },
   "outputs": [],
   "source": [
    "train_v1.fillna(train_v1.median(), inplace=True)"
   ]
  },
  {
   "cell_type": "code",
   "execution_count": 10,
   "id": "358384e9",
   "metadata": {
    "execution": {
     "iopub.execute_input": "2023-03-24T00:23:49.135572Z",
     "iopub.status.busy": "2023-03-24T00:23:49.135090Z",
     "iopub.status.idle": "2023-03-24T00:23:49.146222Z",
     "shell.execute_reply": "2023-03-24T00:23:49.144705Z"
    },
    "papermill": {
     "duration": 0.023143,
     "end_time": "2023-03-24T00:23:49.149051",
     "exception": false,
     "start_time": "2023-03-24T00:23:49.125908",
     "status": "completed"
    },
    "tags": []
   },
   "outputs": [
    {
     "data": {
      "text/plain": [
       "PassengerId    0\n",
       "Survived       0\n",
       "Pclass         0\n",
       "Sex            0\n",
       "Age            0\n",
       "SibSp          0\n",
       "Parch          0\n",
       "Fare           0\n",
       "Embarked       0\n",
       "dtype: int64"
      ]
     },
     "execution_count": 10,
     "metadata": {},
     "output_type": "execute_result"
    }
   ],
   "source": [
    "train_v1.isnull().sum()"
   ]
  },
  {
   "cell_type": "code",
   "execution_count": 11,
   "id": "9e8ad04e",
   "metadata": {
    "execution": {
     "iopub.execute_input": "2023-03-24T00:23:49.166348Z",
     "iopub.status.busy": "2023-03-24T00:23:49.165806Z",
     "iopub.status.idle": "2023-03-24T00:23:49.177726Z",
     "shell.execute_reply": "2023-03-24T00:23:49.176352Z"
    },
    "papermill": {
     "duration": 0.024015,
     "end_time": "2023-03-24T00:23:49.180383",
     "exception": false,
     "start_time": "2023-03-24T00:23:49.156368",
     "status": "completed"
    },
    "tags": []
   },
   "outputs": [
    {
     "data": {
      "text/plain": [
       "PassengerId      0\n",
       "Pclass           0\n",
       "Name             0\n",
       "Sex              0\n",
       "Age             86\n",
       "SibSp            0\n",
       "Parch            0\n",
       "Ticket           0\n",
       "Fare             1\n",
       "Cabin          327\n",
       "Embarked         0\n",
       "dtype: int64"
      ]
     },
     "execution_count": 11,
     "metadata": {},
     "output_type": "execute_result"
    }
   ],
   "source": [
    "test.isnull().sum()"
   ]
  },
  {
   "cell_type": "code",
   "execution_count": 12,
   "id": "1888b59e",
   "metadata": {
    "execution": {
     "iopub.execute_input": "2023-03-24T00:23:49.198303Z",
     "iopub.status.busy": "2023-03-24T00:23:49.197040Z",
     "iopub.status.idle": "2023-03-24T00:23:49.219099Z",
     "shell.execute_reply": "2023-03-24T00:23:49.217769Z"
    },
    "papermill": {
     "duration": 0.034384,
     "end_time": "2023-03-24T00:23:49.222322",
     "exception": false,
     "start_time": "2023-03-24T00:23:49.187938",
     "status": "completed"
    },
    "tags": []
   },
   "outputs": [
    {
     "data": {
      "text/html": [
       "<div>\n",
       "<style scoped>\n",
       "    .dataframe tbody tr th:only-of-type {\n",
       "        vertical-align: middle;\n",
       "    }\n",
       "\n",
       "    .dataframe tbody tr th {\n",
       "        vertical-align: top;\n",
       "    }\n",
       "\n",
       "    .dataframe thead th {\n",
       "        text-align: right;\n",
       "    }\n",
       "</style>\n",
       "<table border=\"1\" class=\"dataframe\">\n",
       "  <thead>\n",
       "    <tr style=\"text-align: right;\">\n",
       "      <th></th>\n",
       "      <th>PassengerId</th>\n",
       "      <th>Pclass</th>\n",
       "      <th>Sex</th>\n",
       "      <th>Age</th>\n",
       "      <th>SibSp</th>\n",
       "      <th>Parch</th>\n",
       "      <th>Fare</th>\n",
       "      <th>Embarked</th>\n",
       "    </tr>\n",
       "  </thead>\n",
       "  <tbody>\n",
       "    <tr>\n",
       "      <th>0</th>\n",
       "      <td>892</td>\n",
       "      <td>3</td>\n",
       "      <td>1</td>\n",
       "      <td>34.5</td>\n",
       "      <td>0</td>\n",
       "      <td>0</td>\n",
       "      <td>7.8292</td>\n",
       "      <td>1.0</td>\n",
       "    </tr>\n",
       "    <tr>\n",
       "      <th>1</th>\n",
       "      <td>893</td>\n",
       "      <td>3</td>\n",
       "      <td>0</td>\n",
       "      <td>47.0</td>\n",
       "      <td>1</td>\n",
       "      <td>0</td>\n",
       "      <td>7.0000</td>\n",
       "      <td>2.0</td>\n",
       "    </tr>\n",
       "    <tr>\n",
       "      <th>2</th>\n",
       "      <td>894</td>\n",
       "      <td>2</td>\n",
       "      <td>0</td>\n",
       "      <td>62.0</td>\n",
       "      <td>0</td>\n",
       "      <td>0</td>\n",
       "      <td>9.6875</td>\n",
       "      <td>1.0</td>\n",
       "    </tr>\n",
       "    <tr>\n",
       "      <th>3</th>\n",
       "      <td>895</td>\n",
       "      <td>3</td>\n",
       "      <td>0</td>\n",
       "      <td>27.0</td>\n",
       "      <td>0</td>\n",
       "      <td>0</td>\n",
       "      <td>8.6625</td>\n",
       "      <td>1.0</td>\n",
       "    </tr>\n",
       "    <tr>\n",
       "      <th>4</th>\n",
       "      <td>896</td>\n",
       "      <td>3</td>\n",
       "      <td>1</td>\n",
       "      <td>22.0</td>\n",
       "      <td>1</td>\n",
       "      <td>1</td>\n",
       "      <td>12.2875</td>\n",
       "      <td>1.0</td>\n",
       "    </tr>\n",
       "  </tbody>\n",
       "</table>\n",
       "</div>"
      ],
      "text/plain": [
       "   PassengerId  Pclass  Sex   Age  SibSp  Parch     Fare  Embarked\n",
       "0          892       3    1  34.5      0      0   7.8292       1.0\n",
       "1          893       3    0  47.0      1      0   7.0000       2.0\n",
       "2          894       2    0  62.0      0      0   9.6875       1.0\n",
       "3          895       3    0  27.0      0      0   8.6625       1.0\n",
       "4          896       3    1  22.0      1      1  12.2875       1.0"
      ]
     },
     "execution_count": 12,
     "metadata": {},
     "output_type": "execute_result"
    }
   ],
   "source": [
    "test_v1 = test.drop(columns = ['Name', 'Ticket', 'Cabin'])\n",
    "test_v1['Sex'] = train.Sex.map(sex_change)\n",
    "test_v1['Embarked'] = train.Embarked.map(embark_change)\n",
    "\n",
    "test_v1.head()"
   ]
  },
  {
   "cell_type": "code",
   "execution_count": 13,
   "id": "0119b284",
   "metadata": {
    "execution": {
     "iopub.execute_input": "2023-03-24T00:23:49.240952Z",
     "iopub.status.busy": "2023-03-24T00:23:49.239613Z",
     "iopub.status.idle": "2023-03-24T00:23:49.257387Z",
     "shell.execute_reply": "2023-03-24T00:23:49.256024Z"
    },
    "papermill": {
     "duration": 0.03015,
     "end_time": "2023-03-24T00:23:49.260204",
     "exception": false,
     "start_time": "2023-03-24T00:23:49.230054",
     "status": "completed"
    },
    "tags": []
   },
   "outputs": [
    {
     "data": {
      "text/plain": [
       "PassengerId    0\n",
       "Pclass         0\n",
       "Sex            0\n",
       "Age            0\n",
       "SibSp          0\n",
       "Parch          0\n",
       "Fare           0\n",
       "Embarked       0\n",
       "dtype: int64"
      ]
     },
     "execution_count": 13,
     "metadata": {},
     "output_type": "execute_result"
    }
   ],
   "source": [
    "test_v1.fillna(test_v1.median(), inplace=True)\n",
    "test_v1.isnull().sum()"
   ]
  },
  {
   "cell_type": "markdown",
   "id": "de9da3a0",
   "metadata": {
    "papermill": {
     "duration": 0.007325,
     "end_time": "2023-03-24T00:23:49.275268",
     "exception": false,
     "start_time": "2023-03-24T00:23:49.267943",
     "status": "completed"
    },
    "tags": []
   },
   "source": [
    "## Iniciando modelagem"
   ]
  },
  {
   "cell_type": "code",
   "execution_count": 14,
   "id": "f85acce2",
   "metadata": {
    "execution": {
     "iopub.execute_input": "2023-03-24T00:23:49.293283Z",
     "iopub.status.busy": "2023-03-24T00:23:49.292796Z",
     "iopub.status.idle": "2023-03-24T00:23:51.459411Z",
     "shell.execute_reply": "2023-03-24T00:23:51.457974Z"
    },
    "papermill": {
     "duration": 2.180008,
     "end_time": "2023-03-24T00:23:51.462837",
     "exception": false,
     "start_time": "2023-03-24T00:23:49.282829",
     "status": "completed"
    },
    "tags": []
   },
   "outputs": [
    {
     "name": "stdout",
     "output_type": "stream",
     "text": [
      "A acurácia foi de 83.21%\n"
     ]
    }
   ],
   "source": [
    "from sklearn.model_selection import train_test_split\n",
    "from sklearn.ensemble import RandomForestClassifier\n",
    "from numpy import random\n",
    "\n",
    "SEED = 666\n",
    "random.seed(SEED)\n",
    "\n",
    "x = train_v1.drop(columns = ['Survived'])\n",
    "y = train_v1['Survived']\n",
    "\n",
    "train_x, test_x, train_y, test_y = train_test_split(x, y, \n",
    "                                                        train_size=0.7, random_state=SEED)\n",
    "\n",
    "model = RandomForestClassifier(n_estimators=200)\n",
    "model.fit(train_x, train_y)\n",
    "print(\"A acurácia foi de %.2f%%\" % (model.score(test_x, test_y) * 100))"
   ]
  },
  {
   "cell_type": "code",
   "execution_count": 15,
   "id": "f9df169c",
   "metadata": {
    "execution": {
     "iopub.execute_input": "2023-03-24T00:23:51.480369Z",
     "iopub.status.busy": "2023-03-24T00:23:51.479880Z",
     "iopub.status.idle": "2023-03-24T00:23:51.489767Z",
     "shell.execute_reply": "2023-03-24T00:23:51.488102Z"
    },
    "papermill": {
     "duration": 0.022497,
     "end_time": "2023-03-24T00:23:51.492991",
     "exception": false,
     "start_time": "2023-03-24T00:23:51.470494",
     "status": "completed"
    },
    "tags": []
   },
   "outputs": [
    {
     "name": "stdout",
     "output_type": "stream",
     "text": [
      "A acurácia foi de 59.33%\n"
     ]
    }
   ],
   "source": [
    "from sklearn.dummy import DummyClassifier\n",
    "\n",
    "SEED = 123321\n",
    "random.seed(SEED)\n",
    "\n",
    "classificador_bobo = DummyClassifier(strategy='most_frequent')\n",
    "\n",
    "classificador_bobo.fit(train_x, train_y)\n",
    "print(\"A acurácia foi de %.2f%%\" % (classificador_bobo.score(test_x, test_y) * 100))"
   ]
  },
  {
   "cell_type": "markdown",
   "id": "354093b2",
   "metadata": {
    "papermill": {
     "duration": 0.007482,
     "end_time": "2023-03-24T00:23:51.508794",
     "exception": false,
     "start_time": "2023-03-24T00:23:51.501312",
     "status": "completed"
    },
    "tags": []
   },
   "source": [
    "## Aplicando ao 'test' real para submissão"
   ]
  },
  {
   "cell_type": "code",
   "execution_count": 16,
   "id": "ace04943",
   "metadata": {
    "execution": {
     "iopub.execute_input": "2023-03-24T00:23:51.526727Z",
     "iopub.status.busy": "2023-03-24T00:23:51.525740Z",
     "iopub.status.idle": "2023-03-24T00:23:52.003466Z",
     "shell.execute_reply": "2023-03-24T00:23:52.001718Z"
    },
    "papermill": {
     "duration": 0.49163,
     "end_time": "2023-03-24T00:23:52.007999",
     "exception": false,
     "start_time": "2023-03-24T00:23:51.516369",
     "status": "completed"
    },
    "tags": []
   },
   "outputs": [
    {
     "name": "stdout",
     "output_type": "stream",
     "text": [
      "Your submission was successfully saved!\n"
     ]
    }
   ],
   "source": [
    "from sklearn.model_selection import train_test_split\n",
    "from sklearn.ensemble import RandomForestClassifier\n",
    "from numpy import random\n",
    "\n",
    "SEED = 666\n",
    "random.seed(SEED)\n",
    "\n",
    "x = train_v1.drop(columns = ['Survived'])\n",
    "y = train_v1['Survived']\n",
    "\n",
    "model = RandomForestClassifier(n_estimators=200)\n",
    "model.fit(x, y)\n",
    "\n",
    "predictions = model.predict(test_v1)\n",
    "\n",
    "output = pd.DataFrame({'PassengerId': test_v1.PassengerId, 'Survived': predictions})\n",
    "output.to_csv('submission.csv', index=False)\n",
    "print(\"Your submission was successfully saved!\")"
   ]
  }
 ],
 "metadata": {
  "kernelspec": {
   "display_name": "Python 3",
   "language": "python",
   "name": "python3"
  },
  "language_info": {
   "codemirror_mode": {
    "name": "ipython",
    "version": 3
   },
   "file_extension": ".py",
   "mimetype": "text/x-python",
   "name": "python",
   "nbconvert_exporter": "python",
   "pygments_lexer": "ipython3",
   "version": "3.7.12"
  },
  "papermill": {
   "default_parameters": {},
   "duration": 16.318655,
   "end_time": "2023-03-24T00:23:53.144908",
   "environment_variables": {},
   "exception": null,
   "input_path": "__notebook__.ipynb",
   "output_path": "__notebook__.ipynb",
   "parameters": {},
   "start_time": "2023-03-24T00:23:36.826253",
   "version": "2.4.0"
  }
 },
 "nbformat": 4,
 "nbformat_minor": 5
}
